{
 "cells": [
  {
   "cell_type": "code",
   "execution_count": null,
   "metadata": {
    "scrolled": true
   },
   "outputs": [],
   "source": [
    "import sys\n",
    "sys.path.append('src')\n",
    "from inpainting_test import InpaintingTest\n",
    "from configs.DIP import cfg as DIP_cfg\n",
    "from configs.DIP_Vid import cfg as DIP_Vid_cfg\n",
    "from configs.DIP_Vid_3DCN import cfg as DIP_Vid_3DCN_cfg\n",
    "from configs.DIP_Vid_Flow import cfg as DIP_Vid_Flow_cfg"
   ]
  },
  {
   "cell_type": "code",
   "execution_count": null,
   "metadata": {},
   "outputs": [],
   "source": [
    "# Choose training mode (DIP|DIP-Vid|DIP-Vid-3DCN|DIP-Vid-Flow)\n",
    "train_mode = 'DIP-Vid-Flow'"
   ]
  },
  {
   "cell_type": "code",
   "execution_count": null,
   "metadata": {},
   "outputs": [],
   "source": [
    "# Set up config\n",
    "if train_mode == 'DIP':\n",
    "    cfg = DIP_cfg\n",
    "elif train_mode == 'DIP-Vid':\n",
    "    cfg = DIP_Vid_cfg\n",
    "elif train_mode == 'DIP-Vid-3DCN':\n",
    "    cfg = DIP_Vid_3DCN_cfg\n",
    "elif train_mode == 'DIP-Vid-Flow':\n",
    "    cfg = DIP_Vid_Flow_cfg\n",
    "    \n",
    "cfg['video_path'] = 'data/bmx-trees.avi'\n",
    "cfg['mask_path'] = 'data/bmx-trees_mask.avi'\n",
    "cfg['save_every_iter'] = 100\n",
    "cfg['resize'] = (192, 384)\n",
    "cfg['plot'] = True\n",
    "cfg['res_dir'] = 'result/test/DIP_Vid_Flow'"
   ]
  },
  {
   "cell_type": "code",
   "execution_count": null,
   "metadata": {
    "scrolled": true
   },
   "outputs": [],
   "source": [
    "test = InpaintingTest(cfg)"
   ]
  },
  {
   "cell_type": "code",
   "execution_count": null,
   "metadata": {
    "scrolled": true
   },
   "outputs": [],
   "source": [
    "test.create_data_loader()"
   ]
  },
  {
   "cell_type": "code",
   "execution_count": null,
   "metadata": {
    "scrolled": true
   },
   "outputs": [],
   "source": [
    "test.visualize_single_batch()"
   ]
  },
  {
   "cell_type": "code",
   "execution_count": null,
   "metadata": {},
   "outputs": [],
   "source": [
    "test.create_model()"
   ]
  },
  {
   "cell_type": "code",
   "execution_count": null,
   "metadata": {},
   "outputs": [],
   "source": [
    "test.create_optimizer()"
   ]
  },
  {
   "cell_type": "code",
   "execution_count": null,
   "metadata": {},
   "outputs": [],
   "source": [
    "test.create_loss_function()"
   ]
  },
  {
   "cell_type": "code",
   "execution_count": null,
   "metadata": {
    "scrolled": true
   },
   "outputs": [],
   "source": [
    "test.train()"
   ]
  }
 ],
 "metadata": {
  "kernelspec": {
   "display_name": "Python 3",
   "language": "python",
   "name": "python3"
  },
  "language_info": {
   "codemirror_mode": {
    "name": "ipython",
    "version": 3
   },
   "file_extension": ".py",
   "mimetype": "text/x-python",
   "name": "python",
   "nbconvert_exporter": "python",
   "pygments_lexer": "ipython3",
   "version": "3.5.2"
  }
 },
 "nbformat": 4,
 "nbformat_minor": 2
}
